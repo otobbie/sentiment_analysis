{
 "cells": [
  {
   "cell_type": "code",
   "execution_count": 1,
   "id": "cbc33c46",
   "metadata": {},
   "outputs": [
    {
     "name": "stderr",
     "output_type": "stream",
     "text": [
      "[nltk_data] Downloading package stopwords to\n",
      "[nltk_data]     C:\\Users\\675399\\AppData\\Roaming\\nltk_data...\n",
      "[nltk_data]   Unzipping corpora\\stopwords.zip.\n",
      "[nltk_data] Downloading package punkt to\n",
      "[nltk_data]     C:\\Users\\675399\\AppData\\Roaming\\nltk_data...\n",
      "[nltk_data]   Unzipping tokenizers\\punkt.zip.\n"
     ]
    },
    {
     "data": {
      "text/plain": [
       "True"
      ]
     },
     "execution_count": 1,
     "metadata": {},
     "output_type": "execute_result"
    }
   ],
   "source": [
    "import nltk  ##pip install nltk\n",
    "nltk.download('stopwords')\n",
    "nltk.download('punkt')"
   ]
  },
  {
   "cell_type": "code",
   "execution_count": 2,
   "id": "f6ed6d07",
   "metadata": {},
   "outputs": [
    {
     "name": "stderr",
     "output_type": "stream",
     "text": [
      "Matplotlib is building the font cache; this may take a moment.\n"
     ]
    }
   ],
   "source": [
    "import re\n",
    "import pandas as pd\n",
    "import numpy as np\n",
    "import seaborn as sns\n",
    "import matplotlib.pyplot as plt\n",
    "from nltk.tokenize import word_tokenize\n",
    "from nltk.stem import PorterStemmer\n",
    "from nltk.corpus import stopwords\n",
    "stop_words = set(stopwords.words('english'))\n",
    "from sklearn.linear_model import LogisticRegression\n",
    "from sklearn.svm import LinearSVC\n",
    "from sklearn.model_selection import train_test_split\n",
    "from sklearn.metrics import mean_squared_error\n",
    "from sklearn.feature_extraction.text import CountVectorizer\n",
    "from sklearn.ensemble import RandomForestClassifier\n",
    "from sklearn.tree import DecisionTreeClassifier\n",
    "from sklearn.naive_bayes import MultinomialNB\n",
    "from sklearn.preprocessing import MinMaxScaler,StandardScaler, LabelEncoder\n",
    "from sklearn.metrics import (accuracy_score, classification_report,confusion_matrix, ConfusionMatrixDisplay,roc_auc_score)"
   ]
  },
  {
   "cell_type": "code",
   "execution_count": 3,
   "id": "13c5a471",
   "metadata": {},
   "outputs": [],
   "source": [
    "from keras.preprocessing import sequence,text #pip install keras, pip install tensorflow, pip install scipy#\n",
    "from keras.models import Sequential\n",
    "from keras.layers import Dense,Dropout,Activation,Embedding,Conv1D,Flatten,MaxPooling1D,LSTM,SpatialDropout1D,Bidirectional"
   ]
  },
  {
   "cell_type": "code",
   "execution_count": 4,
   "id": "32e36d2e",
   "metadata": {},
   "outputs": [],
   "source": [
    "## config parameters for cnn \n",
    "vocab_size = 1000  ##most used words length\n",
    "maxlen = 280  ##number of characters to consider per review\n",
    "batch_size = 128\n",
    "embedding_dims = 128  ##too little will cause underfitting, too large will cause overfitting\n",
    "filters = 4  ##number of output channels the network has\n",
    "kernel_size = 3\n",
    "hidden_dims = 70\n",
    "epochs = 10"
   ]
  },
  {
   "cell_type": "code",
   "execution_count": 5,
   "id": "5131d2f6",
   "metadata": {},
   "outputs": [],
   "source": [
    "#load the data\n",
    "df = pd.read_csv('gpt.csv')"
   ]
  },
  {
   "cell_type": "code",
   "execution_count": 6,
   "id": "f79b331c",
   "metadata": {},
   "outputs": [
    {
     "data": {
      "text/html": [
       "<div>\n",
       "<style scoped>\n",
       "    .dataframe tbody tr th:only-of-type {\n",
       "        vertical-align: middle;\n",
       "    }\n",
       "\n",
       "    .dataframe tbody tr th {\n",
       "        vertical-align: top;\n",
       "    }\n",
       "\n",
       "    .dataframe thead th {\n",
       "        text-align: right;\n",
       "    }\n",
       "</style>\n",
       "<table border=\"1\" class=\"dataframe\">\n",
       "  <thead>\n",
       "    <tr style=\"text-align: right;\">\n",
       "      <th></th>\n",
       "      <th>Unnamed: 0</th>\n",
       "      <th>tweets</th>\n",
       "      <th>labels</th>\n",
       "    </tr>\n",
       "  </thead>\n",
       "  <tbody>\n",
       "    <tr>\n",
       "      <th>0</th>\n",
       "      <td>0</td>\n",
       "      <td>ChatGPT: Optimizing Language Models for Dialog...</td>\n",
       "      <td>neutral</td>\n",
       "    </tr>\n",
       "    <tr>\n",
       "      <th>1</th>\n",
       "      <td>1</td>\n",
       "      <td>Try talking with ChatGPT, our new AI system wh...</td>\n",
       "      <td>good</td>\n",
       "    </tr>\n",
       "    <tr>\n",
       "      <th>2</th>\n",
       "      <td>2</td>\n",
       "      <td>ChatGPT: Optimizing Language Models for Dialog...</td>\n",
       "      <td>neutral</td>\n",
       "    </tr>\n",
       "    <tr>\n",
       "      <th>3</th>\n",
       "      <td>3</td>\n",
       "      <td>THRILLED to share that ChatGPT, our new model ...</td>\n",
       "      <td>good</td>\n",
       "    </tr>\n",
       "    <tr>\n",
       "      <th>4</th>\n",
       "      <td>4</td>\n",
       "      <td>As of 2 minutes ago, @OpenAI released their ne...</td>\n",
       "      <td>bad</td>\n",
       "    </tr>\n",
       "    <tr>\n",
       "      <th>...</th>\n",
       "      <td>...</td>\n",
       "      <td>...</td>\n",
       "      <td>...</td>\n",
       "    </tr>\n",
       "    <tr>\n",
       "      <th>219289</th>\n",
       "      <td>219289</td>\n",
       "      <td>Other Software Projects Are Now Trying to Repl...</td>\n",
       "      <td>bad</td>\n",
       "    </tr>\n",
       "    <tr>\n",
       "      <th>219290</th>\n",
       "      <td>219290</td>\n",
       "      <td>I asked #ChatGPT to write a #NYE Joke for SEOs...</td>\n",
       "      <td>good</td>\n",
       "    </tr>\n",
       "    <tr>\n",
       "      <th>219291</th>\n",
       "      <td>219291</td>\n",
       "      <td>chatgpt is being disassembled until it can onl...</td>\n",
       "      <td>bad</td>\n",
       "    </tr>\n",
       "    <tr>\n",
       "      <th>219292</th>\n",
       "      <td>219292</td>\n",
       "      <td>2023 predictions by #chatGPT. Nothing really s...</td>\n",
       "      <td>bad</td>\n",
       "    </tr>\n",
       "    <tr>\n",
       "      <th>219293</th>\n",
       "      <td>219293</td>\n",
       "      <td>From ChatGPT, neat stuff https://t.co/qjjUF2Z2m0</td>\n",
       "      <td>neutral</td>\n",
       "    </tr>\n",
       "  </tbody>\n",
       "</table>\n",
       "<p>219294 rows × 3 columns</p>\n",
       "</div>"
      ],
      "text/plain": [
       "        Unnamed: 0                                             tweets   labels\n",
       "0                0  ChatGPT: Optimizing Language Models for Dialog...  neutral\n",
       "1                1  Try talking with ChatGPT, our new AI system wh...     good\n",
       "2                2  ChatGPT: Optimizing Language Models for Dialog...  neutral\n",
       "3                3  THRILLED to share that ChatGPT, our new model ...     good\n",
       "4                4  As of 2 minutes ago, @OpenAI released their ne...      bad\n",
       "...            ...                                                ...      ...\n",
       "219289      219289  Other Software Projects Are Now Trying to Repl...      bad\n",
       "219290      219290  I asked #ChatGPT to write a #NYE Joke for SEOs...     good\n",
       "219291      219291  chatgpt is being disassembled until it can onl...      bad\n",
       "219292      219292  2023 predictions by #chatGPT. Nothing really s...      bad\n",
       "219293      219293   From ChatGPT, neat stuff https://t.co/qjjUF2Z2m0  neutral\n",
       "\n",
       "[219294 rows x 3 columns]"
      ]
     },
     "execution_count": 6,
     "metadata": {},
     "output_type": "execute_result"
    }
   ],
   "source": [
    "df"
   ]
  },
  {
   "cell_type": "code",
   "execution_count": 7,
   "id": "f258f2c3",
   "metadata": {},
   "outputs": [],
   "source": [
    "#feature selection\n",
    "new_df = df.drop(['Unnamed: 0'], axis=1)"
   ]
  },
  {
   "cell_type": "code",
   "execution_count": 8,
   "id": "80f3497a",
   "metadata": {},
   "outputs": [
    {
     "data": {
      "text/html": [
       "<div>\n",
       "<style scoped>\n",
       "    .dataframe tbody tr th:only-of-type {\n",
       "        vertical-align: middle;\n",
       "    }\n",
       "\n",
       "    .dataframe tbody tr th {\n",
       "        vertical-align: top;\n",
       "    }\n",
       "\n",
       "    .dataframe thead th {\n",
       "        text-align: right;\n",
       "    }\n",
       "</style>\n",
       "<table border=\"1\" class=\"dataframe\">\n",
       "  <thead>\n",
       "    <tr style=\"text-align: right;\">\n",
       "      <th></th>\n",
       "      <th>tweets</th>\n",
       "      <th>labels</th>\n",
       "    </tr>\n",
       "  </thead>\n",
       "  <tbody>\n",
       "    <tr>\n",
       "      <th>0</th>\n",
       "      <td>ChatGPT: Optimizing Language Models for Dialog...</td>\n",
       "      <td>neutral</td>\n",
       "    </tr>\n",
       "    <tr>\n",
       "      <th>1</th>\n",
       "      <td>Try talking with ChatGPT, our new AI system wh...</td>\n",
       "      <td>good</td>\n",
       "    </tr>\n",
       "    <tr>\n",
       "      <th>2</th>\n",
       "      <td>ChatGPT: Optimizing Language Models for Dialog...</td>\n",
       "      <td>neutral</td>\n",
       "    </tr>\n",
       "    <tr>\n",
       "      <th>3</th>\n",
       "      <td>THRILLED to share that ChatGPT, our new model ...</td>\n",
       "      <td>good</td>\n",
       "    </tr>\n",
       "    <tr>\n",
       "      <th>4</th>\n",
       "      <td>As of 2 minutes ago, @OpenAI released their ne...</td>\n",
       "      <td>bad</td>\n",
       "    </tr>\n",
       "    <tr>\n",
       "      <th>...</th>\n",
       "      <td>...</td>\n",
       "      <td>...</td>\n",
       "    </tr>\n",
       "    <tr>\n",
       "      <th>219289</th>\n",
       "      <td>Other Software Projects Are Now Trying to Repl...</td>\n",
       "      <td>bad</td>\n",
       "    </tr>\n",
       "    <tr>\n",
       "      <th>219290</th>\n",
       "      <td>I asked #ChatGPT to write a #NYE Joke for SEOs...</td>\n",
       "      <td>good</td>\n",
       "    </tr>\n",
       "    <tr>\n",
       "      <th>219291</th>\n",
       "      <td>chatgpt is being disassembled until it can onl...</td>\n",
       "      <td>bad</td>\n",
       "    </tr>\n",
       "    <tr>\n",
       "      <th>219292</th>\n",
       "      <td>2023 predictions by #chatGPT. Nothing really s...</td>\n",
       "      <td>bad</td>\n",
       "    </tr>\n",
       "    <tr>\n",
       "      <th>219293</th>\n",
       "      <td>From ChatGPT, neat stuff https://t.co/qjjUF2Z2m0</td>\n",
       "      <td>neutral</td>\n",
       "    </tr>\n",
       "  </tbody>\n",
       "</table>\n",
       "<p>219294 rows × 2 columns</p>\n",
       "</div>"
      ],
      "text/plain": [
       "                                                   tweets   labels\n",
       "0       ChatGPT: Optimizing Language Models for Dialog...  neutral\n",
       "1       Try talking with ChatGPT, our new AI system wh...     good\n",
       "2       ChatGPT: Optimizing Language Models for Dialog...  neutral\n",
       "3       THRILLED to share that ChatGPT, our new model ...     good\n",
       "4       As of 2 minutes ago, @OpenAI released their ne...      bad\n",
       "...                                                   ...      ...\n",
       "219289  Other Software Projects Are Now Trying to Repl...      bad\n",
       "219290  I asked #ChatGPT to write a #NYE Joke for SEOs...     good\n",
       "219291  chatgpt is being disassembled until it can onl...      bad\n",
       "219292  2023 predictions by #chatGPT. Nothing really s...      bad\n",
       "219293   From ChatGPT, neat stuff https://t.co/qjjUF2Z2m0  neutral\n",
       "\n",
       "[219294 rows x 2 columns]"
      ]
     },
     "execution_count": 8,
     "metadata": {},
     "output_type": "execute_result"
    }
   ],
   "source": [
    "new_df"
   ]
  },
  {
   "cell_type": "markdown",
   "id": "dee35fe3",
   "metadata": {},
   "source": [
    "# Preprocessing"
   ]
  },
  {
   "cell_type": "code",
   "execution_count": 9,
   "id": "5aaf92cb",
   "metadata": {},
   "outputs": [],
   "source": [
    "def data_processing(text):\n",
    "    #change to lowercase\n",
    "    text = text.lower()\n",
    "    #remove links using http(s)\n",
    "    text = re.sub(r\"https\\S+|www\\S+https\\S+\", '',text, flags=re.MULTILINE)\n",
    "    ##remove \\n\n",
    "    text = text.replace(\"\\\\n\", \" \")\n",
    "    #remove special characters\n",
    "    text = re.sub(r'\\@w+|\\#','',text)\n",
    "    text = re.sub(r'[^\\w\\s]','',text)\n",
    "    text_tokens = word_tokenize(text)\n",
    "    return \" \".join(text_tokens).strip()"
   ]
  },
  {
   "cell_type": "code",
   "execution_count": 10,
   "id": "12a0e994",
   "metadata": {},
   "outputs": [],
   "source": [
    "review = new_df['tweets'].apply(data_processing)"
   ]
  },
  {
   "cell_type": "code",
   "execution_count": 11,
   "id": "11f866a6",
   "metadata": {},
   "outputs": [
    {
     "data": {
      "text/plain": [
       "'i asked chatgpt a new ai system that is optimized for dialogue to teach me seo in a minute the result'"
      ]
     },
     "execution_count": 11,
     "metadata": {},
     "output_type": "execute_result"
    }
   ],
   "source": [
    "review[19]"
   ]
  },
  {
   "cell_type": "code",
   "execution_count": 12,
   "id": "583b6b24",
   "metadata": {},
   "outputs": [],
   "source": [
    "\n",
    "stemmer = PorterStemmer()\n",
    "def stemming(data):\n",
    "    text = [stemmer.stem(word) for word in data]\n",
    "    return data"
   ]
  },
  {
   "cell_type": "code",
   "execution_count": 13,
   "id": "61780d11",
   "metadata": {},
   "outputs": [],
   "source": [
    "# new_text = text.apply(lambda x: stemming(x))\n",
    "new_text = review.apply(stemming)"
   ]
  },
  {
   "cell_type": "code",
   "execution_count": 14,
   "id": "4553d6ed",
   "metadata": {},
   "outputs": [
    {
     "data": {
      "text/plain": [
       "'i asked chatgpt a new ai system that is optimized for dialogue to teach me seo in a minute the result'"
      ]
     },
     "execution_count": 14,
     "metadata": {},
     "output_type": "execute_result"
    }
   ],
   "source": [
    "new_text[19]"
   ]
  },
  {
   "cell_type": "code",
   "execution_count": 15,
   "id": "c5536894",
   "metadata": {},
   "outputs": [],
   "source": [
    "new_df['cleaned_tweets'] = new_text"
   ]
  },
  {
   "cell_type": "code",
   "execution_count": 16,
   "id": "9eb1e4f8",
   "metadata": {},
   "outputs": [
    {
     "data": {
      "text/html": [
       "<div>\n",
       "<style scoped>\n",
       "    .dataframe tbody tr th:only-of-type {\n",
       "        vertical-align: middle;\n",
       "    }\n",
       "\n",
       "    .dataframe tbody tr th {\n",
       "        vertical-align: top;\n",
       "    }\n",
       "\n",
       "    .dataframe thead th {\n",
       "        text-align: right;\n",
       "    }\n",
       "</style>\n",
       "<table border=\"1\" class=\"dataframe\">\n",
       "  <thead>\n",
       "    <tr style=\"text-align: right;\">\n",
       "      <th></th>\n",
       "      <th>tweets</th>\n",
       "      <th>labels</th>\n",
       "      <th>cleaned_tweets</th>\n",
       "    </tr>\n",
       "  </thead>\n",
       "  <tbody>\n",
       "    <tr>\n",
       "      <th>0</th>\n",
       "      <td>ChatGPT: Optimizing Language Models for Dialog...</td>\n",
       "      <td>neutral</td>\n",
       "      <td>chatgpt optimizing language models for dialogu...</td>\n",
       "    </tr>\n",
       "    <tr>\n",
       "      <th>1</th>\n",
       "      <td>Try talking with ChatGPT, our new AI system wh...</td>\n",
       "      <td>good</td>\n",
       "      <td>try talking with chatgpt our new ai system whi...</td>\n",
       "    </tr>\n",
       "    <tr>\n",
       "      <th>2</th>\n",
       "      <td>ChatGPT: Optimizing Language Models for Dialog...</td>\n",
       "      <td>neutral</td>\n",
       "      <td>chatgpt optimizing language models for dialogu...</td>\n",
       "    </tr>\n",
       "    <tr>\n",
       "      <th>3</th>\n",
       "      <td>THRILLED to share that ChatGPT, our new model ...</td>\n",
       "      <td>good</td>\n",
       "      <td>thrilled to share that chatgpt our new model o...</td>\n",
       "    </tr>\n",
       "    <tr>\n",
       "      <th>4</th>\n",
       "      <td>As of 2 minutes ago, @OpenAI released their ne...</td>\n",
       "      <td>bad</td>\n",
       "      <td>as of 2 minutes ago openai released their new ...</td>\n",
       "    </tr>\n",
       "    <tr>\n",
       "      <th>...</th>\n",
       "      <td>...</td>\n",
       "      <td>...</td>\n",
       "      <td>...</td>\n",
       "    </tr>\n",
       "    <tr>\n",
       "      <th>219289</th>\n",
       "      <td>Other Software Projects Are Now Trying to Repl...</td>\n",
       "      <td>bad</td>\n",
       "      <td>other software projects are now trying to repl...</td>\n",
       "    </tr>\n",
       "    <tr>\n",
       "      <th>219290</th>\n",
       "      <td>I asked #ChatGPT to write a #NYE Joke for SEOs...</td>\n",
       "      <td>good</td>\n",
       "      <td>i asked chatgpt to write a nye joke for seos a...</td>\n",
       "    </tr>\n",
       "    <tr>\n",
       "      <th>219291</th>\n",
       "      <td>chatgpt is being disassembled until it can onl...</td>\n",
       "      <td>bad</td>\n",
       "      <td>chatgpt is being disassembled until it can onl...</td>\n",
       "    </tr>\n",
       "    <tr>\n",
       "      <th>219292</th>\n",
       "      <td>2023 predictions by #chatGPT. Nothing really s...</td>\n",
       "      <td>bad</td>\n",
       "      <td>2023 predictions by chatgpt nothing really spe...</td>\n",
       "    </tr>\n",
       "    <tr>\n",
       "      <th>219293</th>\n",
       "      <td>From ChatGPT, neat stuff https://t.co/qjjUF2Z2m0</td>\n",
       "      <td>neutral</td>\n",
       "      <td>from chatgpt neat stuff</td>\n",
       "    </tr>\n",
       "  </tbody>\n",
       "</table>\n",
       "<p>219294 rows × 3 columns</p>\n",
       "</div>"
      ],
      "text/plain": [
       "                                                   tweets   labels   \n",
       "0       ChatGPT: Optimizing Language Models for Dialog...  neutral  \\\n",
       "1       Try talking with ChatGPT, our new AI system wh...     good   \n",
       "2       ChatGPT: Optimizing Language Models for Dialog...  neutral   \n",
       "3       THRILLED to share that ChatGPT, our new model ...     good   \n",
       "4       As of 2 minutes ago, @OpenAI released their ne...      bad   \n",
       "...                                                   ...      ...   \n",
       "219289  Other Software Projects Are Now Trying to Repl...      bad   \n",
       "219290  I asked #ChatGPT to write a #NYE Joke for SEOs...     good   \n",
       "219291  chatgpt is being disassembled until it can onl...      bad   \n",
       "219292  2023 predictions by #chatGPT. Nothing really s...      bad   \n",
       "219293   From ChatGPT, neat stuff https://t.co/qjjUF2Z2m0  neutral   \n",
       "\n",
       "                                           cleaned_tweets  \n",
       "0       chatgpt optimizing language models for dialogu...  \n",
       "1       try talking with chatgpt our new ai system whi...  \n",
       "2       chatgpt optimizing language models for dialogu...  \n",
       "3       thrilled to share that chatgpt our new model o...  \n",
       "4       as of 2 minutes ago openai released their new ...  \n",
       "...                                                   ...  \n",
       "219289  other software projects are now trying to repl...  \n",
       "219290  i asked chatgpt to write a nye joke for seos a...  \n",
       "219291  chatgpt is being disassembled until it can onl...  \n",
       "219292  2023 predictions by chatgpt nothing really spe...  \n",
       "219293                            from chatgpt neat stuff  \n",
       "\n",
       "[219294 rows x 3 columns]"
      ]
     },
     "execution_count": 16,
     "metadata": {},
     "output_type": "execute_result"
    }
   ],
   "source": [
    "new_df"
   ]
  },
  {
   "cell_type": "code",
   "execution_count": 17,
   "id": "a69fc85d",
   "metadata": {},
   "outputs": [],
   "source": [
    "data = new_df[['cleaned_tweets','labels']]"
   ]
  },
  {
   "cell_type": "code",
   "execution_count": 18,
   "id": "c7e88c61",
   "metadata": {},
   "outputs": [
    {
     "data": {
      "text/html": [
       "<div>\n",
       "<style scoped>\n",
       "    .dataframe tbody tr th:only-of-type {\n",
       "        vertical-align: middle;\n",
       "    }\n",
       "\n",
       "    .dataframe tbody tr th {\n",
       "        vertical-align: top;\n",
       "    }\n",
       "\n",
       "    .dataframe thead th {\n",
       "        text-align: right;\n",
       "    }\n",
       "</style>\n",
       "<table border=\"1\" class=\"dataframe\">\n",
       "  <thead>\n",
       "    <tr style=\"text-align: right;\">\n",
       "      <th></th>\n",
       "      <th>cleaned_tweets</th>\n",
       "      <th>labels</th>\n",
       "    </tr>\n",
       "  </thead>\n",
       "  <tbody>\n",
       "    <tr>\n",
       "      <th>0</th>\n",
       "      <td>chatgpt optimizing language models for dialogu...</td>\n",
       "      <td>neutral</td>\n",
       "    </tr>\n",
       "    <tr>\n",
       "      <th>1</th>\n",
       "      <td>try talking with chatgpt our new ai system whi...</td>\n",
       "      <td>good</td>\n",
       "    </tr>\n",
       "    <tr>\n",
       "      <th>2</th>\n",
       "      <td>chatgpt optimizing language models for dialogu...</td>\n",
       "      <td>neutral</td>\n",
       "    </tr>\n",
       "    <tr>\n",
       "      <th>3</th>\n",
       "      <td>thrilled to share that chatgpt our new model o...</td>\n",
       "      <td>good</td>\n",
       "    </tr>\n",
       "    <tr>\n",
       "      <th>4</th>\n",
       "      <td>as of 2 minutes ago openai released their new ...</td>\n",
       "      <td>bad</td>\n",
       "    </tr>\n",
       "    <tr>\n",
       "      <th>...</th>\n",
       "      <td>...</td>\n",
       "      <td>...</td>\n",
       "    </tr>\n",
       "    <tr>\n",
       "      <th>219289</th>\n",
       "      <td>other software projects are now trying to repl...</td>\n",
       "      <td>bad</td>\n",
       "    </tr>\n",
       "    <tr>\n",
       "      <th>219290</th>\n",
       "      <td>i asked chatgpt to write a nye joke for seos a...</td>\n",
       "      <td>good</td>\n",
       "    </tr>\n",
       "    <tr>\n",
       "      <th>219291</th>\n",
       "      <td>chatgpt is being disassembled until it can onl...</td>\n",
       "      <td>bad</td>\n",
       "    </tr>\n",
       "    <tr>\n",
       "      <th>219292</th>\n",
       "      <td>2023 predictions by chatgpt nothing really spe...</td>\n",
       "      <td>bad</td>\n",
       "    </tr>\n",
       "    <tr>\n",
       "      <th>219293</th>\n",
       "      <td>from chatgpt neat stuff</td>\n",
       "      <td>neutral</td>\n",
       "    </tr>\n",
       "  </tbody>\n",
       "</table>\n",
       "<p>219294 rows × 2 columns</p>\n",
       "</div>"
      ],
      "text/plain": [
       "                                           cleaned_tweets   labels\n",
       "0       chatgpt optimizing language models for dialogu...  neutral\n",
       "1       try talking with chatgpt our new ai system whi...     good\n",
       "2       chatgpt optimizing language models for dialogu...  neutral\n",
       "3       thrilled to share that chatgpt our new model o...     good\n",
       "4       as of 2 minutes ago openai released their new ...      bad\n",
       "...                                                   ...      ...\n",
       "219289  other software projects are now trying to repl...      bad\n",
       "219290  i asked chatgpt to write a nye joke for seos a...     good\n",
       "219291  chatgpt is being disassembled until it can onl...      bad\n",
       "219292  2023 predictions by chatgpt nothing really spe...      bad\n",
       "219293                            from chatgpt neat stuff  neutral\n",
       "\n",
       "[219294 rows x 2 columns]"
      ]
     },
     "execution_count": 18,
     "metadata": {},
     "output_type": "execute_result"
    }
   ],
   "source": [
    "data"
   ]
  },
  {
   "cell_type": "code",
   "execution_count": 19,
   "id": "a5ccaa16",
   "metadata": {},
   "outputs": [
    {
     "data": {
      "text/html": [
       "<div>\n",
       "<style scoped>\n",
       "    .dataframe tbody tr th:only-of-type {\n",
       "        vertical-align: middle;\n",
       "    }\n",
       "\n",
       "    .dataframe tbody tr th {\n",
       "        vertical-align: top;\n",
       "    }\n",
       "\n",
       "    .dataframe thead th {\n",
       "        text-align: right;\n",
       "    }\n",
       "</style>\n",
       "<table border=\"1\" class=\"dataframe\">\n",
       "  <thead>\n",
       "    <tr style=\"text-align: right;\">\n",
       "      <th></th>\n",
       "      <th>count</th>\n",
       "    </tr>\n",
       "    <tr>\n",
       "      <th>labels</th>\n",
       "      <th></th>\n",
       "    </tr>\n",
       "  </thead>\n",
       "  <tbody>\n",
       "    <tr>\n",
       "      <th>bad</th>\n",
       "      <td>107796</td>\n",
       "    </tr>\n",
       "    <tr>\n",
       "      <th>good</th>\n",
       "      <td>56011</td>\n",
       "    </tr>\n",
       "    <tr>\n",
       "      <th>neutral</th>\n",
       "      <td>55487</td>\n",
       "    </tr>\n",
       "  </tbody>\n",
       "</table>\n",
       "</div>"
      ],
      "text/plain": [
       "          count\n",
       "labels         \n",
       "bad      107796\n",
       "good      56011\n",
       "neutral   55487"
      ]
     },
     "execution_count": 19,
     "metadata": {},
     "output_type": "execute_result"
    }
   ],
   "source": [
    "pd.DataFrame(data['labels'].value_counts())"
   ]
  },
  {
   "cell_type": "code",
   "execution_count": 20,
   "id": "389f4ce9",
   "metadata": {},
   "outputs": [
    {
     "data": {
      "text/plain": [
       "<seaborn.axisgrid.FacetGrid at 0x1eb1dc879d0>"
      ]
     },
     "execution_count": 20,
     "metadata": {},
     "output_type": "execute_result"
    },
    {
     "data": {
      "image/png": "[encoded data removed]",
      "text/plain": [
       "<Figure size 500x500 with 1 Axes>"
      ]
     },
     "metadata": {},
     "output_type": "display_data"
    }
   ],
   "source": [
    "sns.displot(data=data, x='labels',multiple = 'stack').set(title='Distribution plot of Sentiments')"
   ]
  },
  {
   "cell_type": "markdown",
   "id": "3c49f3d2",
   "metadata": {},
   "source": [
    "# Modelling"
   ]
  },
  {
   "cell_type": "code",
   "execution_count": 21,
   "id": "91bd7047",
   "metadata": {},
   "outputs": [],
   "source": [
    "# X = data.drop('labels', axis = 1)\n",
    "# y = data['labels']"
   ]
  },
  {
   "cell_type": "code",
   "execution_count": 22,
   "id": "8fd196d6",
   "metadata": {},
   "outputs": [],
   "source": [
    "##split the data\n",
    "X_train, X_test, y_train, y_test = train_test_split(data['cleaned_tweets'], data['labels'], test_size=0.3, random_state=20)"
   ]
  },
  {
   "cell_type": "code",
   "execution_count": 23,
   "id": "8aa3fd9a",
   "metadata": {},
   "outputs": [
    {
     "name": "stdout",
     "output_type": "stream",
     "text": [
      "Size of x_train: (153505,)\n",
      "Size of y_train: (153505,)\n",
      "Size of x_test: (65789,)\n",
      "Size of y_test: (65789,)\n"
     ]
    }
   ],
   "source": [
    "print(\"Size of x_train:\", (X_train.shape))\n",
    "print(\"Size of y_train:\", (y_train.shape))\n",
    "print(\"Size of x_test:\", (X_test.shape))\n",
    "print(\"Size of y_test:\", (y_test.shape))"
   ]
  },
  {
   "cell_type": "code",
   "execution_count": 24,
   "id": "ba037790",
   "metadata": {},
   "outputs": [],
   "source": [
    "vec = CountVectorizer(\n",
    "    ngram_range=(1, 3), \n",
    "    stop_words='english',\n",
    ")\n",
    "\n",
    "x_train = vec.fit_transform(X_train)\n",
    "x_test = vec.transform(X_test)"
   ]
  },
  {
   "cell_type": "code",
   "execution_count": 25,
   "id": "6f62cd26",
   "metadata": {},
   "outputs": [
    {
     "name": "stdout",
     "output_type": "stream",
     "text": [
      "Size of x_train: (153505, 2029158)\n",
      "Size of y_train: (153505,)\n",
      "Size of x_test: (65789, 2029158)\n",
      "Size of y_test: (65789,)\n"
     ]
    }
   ],
   "source": [
    "print(\"Size of x_train:\", (x_train.shape))\n",
    "print(\"Size of y_train:\", (y_train.shape))\n",
    "print(\"Size of x_test:\", (x_test.shape))\n",
    "print(\"Size of y_test:\", (y_test.shape))"
   ]
  },
  {
   "cell_type": "code",
   "execution_count": 26,
   "id": "e584163d",
   "metadata": {},
   "outputs": [
    {
     "name": "stdout",
     "output_type": "stream",
     "text": [
      "  (0, 1797599)\t1\n",
      "  (0, 1323943)\t1\n",
      "  (0, 167867)\t1\n",
      "  (0, 62985)\t1\n",
      "  (0, 295408)\t1\n",
      "  (0, 839085)\t1\n",
      "  (0, 1913049)\t1\n",
      "  (0, 1251263)\t1\n",
      "  (0, 1971000)\t1\n",
      "  (0, 427949)\t1\n",
      "  (0, 1800884)\t1\n",
      "  (0, 1324063)\t1\n",
      "  (0, 167880)\t1\n",
      "  (0, 67092)\t1\n",
      "  (0, 331353)\t1\n",
      "  (0, 842032)\t1\n",
      "  (0, 1914083)\t1\n",
      "  (0, 1252046)\t1\n",
      "  (0, 1971714)\t1\n",
      "  (0, 1800885)\t1\n",
      "  (0, 1324064)\t1\n",
      "  (0, 167882)\t1\n",
      "  (0, 67443)\t1\n",
      "  (0, 331613)\t1\n",
      "  (0, 842041)\t1\n",
      "  :\t:\n",
      "  (153504, 658861)\t1\n",
      "  (153504, 344766)\t1\n",
      "  (153504, 463991)\t1\n",
      "  (153504, 1124016)\t1\n",
      "  (153504, 344769)\t1\n",
      "  (153504, 219420)\t1\n",
      "  (153504, 1456635)\t1\n",
      "  (153504, 483763)\t1\n",
      "  (153504, 1018751)\t1\n",
      "  (153504, 101339)\t1\n",
      "  (153504, 784630)\t1\n",
      "  (153504, 1353272)\t1\n",
      "  (153504, 464416)\t1\n",
      "  (153504, 608798)\t1\n",
      "  (153504, 659090)\t1\n",
      "  (153504, 1124018)\t1\n",
      "  (153504, 101340)\t1\n",
      "  (153504, 784631)\t1\n",
      "  (153504, 1353273)\t1\n",
      "  (153504, 463992)\t1\n",
      "  (153504, 483765)\t1\n",
      "  (153504, 464417)\t1\n",
      "  (153504, 608799)\t1\n",
      "  (153504, 1456636)\t1\n",
      "  (153504, 659091)\t1\n"
     ]
    }
   ],
   "source": [
    "print(x_train)"
   ]
  },
  {
   "cell_type": "code",
   "execution_count": 27,
   "id": "b973de94",
   "metadata": {
    "scrolled": true
   },
   "outputs": [
    {
     "name": "stderr",
     "output_type": "stream",
     "text": [
      "C:\\Users\\675399\\AppData\\Roaming\\Python\\Python39\\site-packages\\sklearn\\linear_model\\_logistic.py:458: ConvergenceWarning: lbfgs failed to converge (status=1):\n",
      "STOP: TOTAL NO. of ITERATIONS REACHED LIMIT.\n",
      "\n",
      "Increase the number of iterations (max_iter) or scale the data as shown in:\n",
      "    https://scikit-learn.org/stable/modules/preprocessing.html\n",
      "Please also refer to the documentation for alternative solver options:\n",
      "    https://scikit-learn.org/stable/modules/linear_model.html#logistic-regression\n",
      "  n_iter_i = _check_optimize_result(\n"
     ]
    },
    {
     "name": "stdout",
     "output_type": "stream",
     "text": [
      "test accuracy: 83.93%\n"
     ]
    }
   ],
   "source": [
    "logreg = LogisticRegression()\n",
    "logreg.fit(x_train, y_train)\n",
    "logreg_pred = logreg.predict(x_test)\n",
    "logreg_acc = accuracy_score(logreg_pred, y_test)\n",
    "print(\"test accuracy: {:.2f}%\".format(logreg_acc*100))"
   ]
  },
  {
   "cell_type": "code",
   "execution_count": 28,
   "id": "bfff4eca",
   "metadata": {},
   "outputs": [
    {
     "name": "stdout",
     "output_type": "stream",
     "text": [
      "test accuracy: 81.27%\n"
     ]
    },
    {
     "name": "stderr",
     "output_type": "stream",
     "text": [
      "C:\\Users\\675399\\AppData\\Roaming\\Python\\Python39\\site-packages\\sklearn\\svm\\_base.py:1244: ConvergenceWarning: Liblinear failed to converge, increase the number of iterations.\n",
      "  warnings.warn(\n"
     ]
    }
   ],
   "source": [
    "SVCmodel = LinearSVC()\n",
    "SVCmodel.fit(x_train, y_train)\n",
    "svc_pred = SVCmodel.predict(x_test)\n",
    "svc_acc = accuracy_score(svc_pred, y_test)\n",
    "print(\"test accuracy: {:.2f}%\".format(svc_acc*100))"
   ]
  },
  {
   "cell_type": "code",
   "execution_count": 29,
   "id": "37436f36",
   "metadata": {},
   "outputs": [
    {
     "name": "stdout",
     "output_type": "stream",
     "text": [
      "test accuracy: 72.85%\n"
     ]
    }
   ],
   "source": [
    "nb = MultinomialNB()\n",
    "nb.fit(x_train, y_train)\n",
    "nb_preds = nb.predict(x_test)\n",
    "nb_acc = accuracy_score(nb_preds, y_test)\n",
    "print(\"test accuracy: {:.2f}%\".format(nb_acc*100))\n",
    "# print(classification_report(y_test, preds))"
   ]
  },
  {
   "cell_type": "markdown",
   "id": "dc77cf4c",
   "metadata": {},
   "source": [
    "Modelling using CNN"
   ]
  },
  {
   "cell_type": "code",
   "execution_count": 30,
   "id": "c99d4ab2",
   "metadata": {},
   "outputs": [],
   "source": [
    "from tensorflow.keras.utils import to_categorical\n",
    "\n",
    "#transfer labels to integers\n",
    "le = LabelEncoder()\n",
    "labels = le.fit_transform(data['labels'])\n",
    "labels = to_categorical(labels)"
   ]
  },
  {
   "cell_type": "code",
   "execution_count": 31,
   "id": "3c2804f6",
   "metadata": {},
   "outputs": [],
   "source": [
    "from keras.utils import pad_sequences\n",
    "\n",
    "##prepare input by converting the text to acceptable integers for cnn\n",
    "tokenizer =  text.Tokenizer(num_words=vocab_size)\n",
    "tokenizer.fit_on_texts(data['cleaned_tweets'])\n",
    "sequences = tokenizer.texts_to_sequences(data['cleaned_tweets'])\n",
    "word_index = tokenizer.word_index\n",
    "maxlen = max([len(seq) for seq in sequences])\n",
    "## padd the numbers with zero to meet the maxlen\n",
    "x = pad_sequences(sequences, maxlen=maxlen)\n",
    "\n",
    "##split data\n",
    "X1_train, X1_test, y_train, y_test = train_test_split(x, labels, test_size=0.2, random_state=42)\n",
    "X,y=X1_train,y_train\n",
    "X1_train, X1_val, y_train, y_val = train_test_split(X, y, test_size=0.2, random_state=42)\n",
    "\n"
   ]
  },
  {
   "cell_type": "code",
   "execution_count": 32,
   "id": "ad5009d8",
   "metadata": {},
   "outputs": [
    {
     "data": {
      "text/plain": [
       "array([[0., 0., 1.],\n",
       "       [0., 1., 0.],\n",
       "       [0., 0., 1.],\n",
       "       ...,\n",
       "       [1., 0., 0.],\n",
       "       [1., 0., 0.],\n",
       "       [0., 0., 1.]], dtype=float32)"
      ]
     },
     "execution_count": 32,
     "metadata": {},
     "output_type": "execute_result"
    }
   ],
   "source": [
    "labels"
   ]
  },
  {
   "cell_type": "code",
   "execution_count": 33,
   "id": "f00acff4",
   "metadata": {},
   "outputs": [
    {
     "name": "stdout",
     "output_type": "stream",
     "text": [
      "Size of x_train: (140348, 59)\n",
      "Size of y_train: (140348, 3)\n",
      "Size of x_test: (43859, 59)\n",
      "Size of y_test: (43859, 3)\n",
      "Size of x_val: (35087, 59)\n",
      "Size of y_val: (35087, 3)\n"
     ]
    }
   ],
   "source": [
    "print(\"Size of x_train:\", (X1_train.shape))\n",
    "print(\"Size of y_train:\", (y_train.shape))\n",
    "print(\"Size of x_test:\", (X1_test.shape))\n",
    "print(\"Size of y_test:\", (y_test.shape))\n",
    "print(\"Size of x_val:\", (X1_val.shape))\n",
    "print(\"Size of y_val:\", (y_val.shape))"
   ]
  },
  {
   "cell_type": "code",
   "execution_count": 34,
   "id": "3fa15505",
   "metadata": {
    "scrolled": true
   },
   "outputs": [],
   "source": [
    "embeddings_index = {}\n",
    "with open('C:/Users/Public/Downloads/glove.6B.100d.txt', encoding='utf8') as f:\n",
    "    for line in f:\n",
    "        values = line.split()\n",
    "        word = values[0]\n",
    "        coefs = np.asarray(values[1:], dtype='float32')\n",
    "        embeddings_index[word] = coefs\n",
    "\n",
    "embedding_matrix = np.zeros((len(word_index) + 1, 100))\n",
    "for word, i in word_index.items():\n",
    "    embedding_vector = embeddings_index.get(word)\n",
    "    if embedding_vector is not None:\n",
    "        embedding_matrix[i] = embedding_vector"
   ]
  },
  {
   "cell_type": "code",
   "execution_count": 35,
   "id": "94eb3bfe",
   "metadata": {},
   "outputs": [],
   "source": [
    "num_labels = len(le.classes_)\n",
    "word_index = tokenizer.word_index\n",
    "\n",
    "model = Sequential()\n",
    "model.add(Embedding(len(word_index) + 1, 100, weights=[embedding_matrix], input_length=maxlen, trainable=False))\n",
    "model.add(LSTM(128, dropout=0.2, recurrent_dropout=0.2))\n",
    "model.add(Dense(num_labels, activation='softmax'))\n"
   ]
  },
  {
   "cell_type": "code",
   "execution_count": 36,
   "id": "713503df",
   "metadata": {},
   "outputs": [],
   "source": [
    "from tensorflow.keras.optimizers import Adam\n",
    "\n",
    "model.compile(optimizer=Adam(learning_rate=0.001), loss='categorical_crossentropy', metrics=['accuracy'])"
   ]
  },
  {
   "cell_type": "code",
   "execution_count": 37,
   "id": "30f2c821",
   "metadata": {},
   "outputs": [
    {
     "name": "stdout",
     "output_type": "stream",
     "text": [
      "Epoch 1/20\n",
      "4386/4386 [==============================] - 267s 60ms/step - loss: 0.7691 - accuracy: 0.6703 - val_loss: 0.6675 - val_accuracy: 0.7299\n",
      "Epoch 2/20\n",
      "4386/4386 [==============================] - 260s 59ms/step - loss: 0.6615 - accuracy: 0.7372 - val_loss: 0.6254 - val_accuracy: 0.7602\n",
      "Epoch 3/20\n",
      "4386/4386 [==============================] - 262s 60ms/step - loss: 0.6235 - accuracy: 0.7586 - val_loss: 0.6013 - val_accuracy: 0.7723\n",
      "Epoch 4/20\n",
      "4386/4386 [==============================] - 261s 60ms/step - loss: 0.6024 - accuracy: 0.7697 - val_loss: 0.5929 - val_accuracy: 0.7750\n",
      "Epoch 5/20\n",
      "4386/4386 [==============================] - 268s 61ms/step - loss: 0.5867 - accuracy: 0.7762 - val_loss: 0.5864 - val_accuracy: 0.7801\n",
      "Epoch 6/20\n",
      "4386/4386 [==============================] - 266s 61ms/step - loss: 0.5765 - accuracy: 0.7799 - val_loss: 0.5830 - val_accuracy: 0.7831\n",
      "Epoch 7/20\n",
      "4386/4386 [==============================] - 266s 61ms/step - loss: 0.5674 - accuracy: 0.7841 - val_loss: 0.5812 - val_accuracy: 0.7831\n",
      "Epoch 8/20\n",
      "4386/4386 [==============================] - 266s 61ms/step - loss: 0.5590 - accuracy: 0.7863 - val_loss: 0.5864 - val_accuracy: 0.7856\n",
      "Epoch 9/20\n",
      "4386/4386 [==============================] - 266s 61ms/step - loss: 0.5520 - accuracy: 0.7897 - val_loss: 0.5830 - val_accuracy: 0.7816\n",
      "Epoch 10/20\n",
      "4386/4386 [==============================] - 291s 66ms/step - loss: 0.5472 - accuracy: 0.7914 - val_loss: 0.5841 - val_accuracy: 0.7856\n",
      "Epoch 11/20\n",
      "4386/4386 [==============================] - 269s 61ms/step - loss: 0.5405 - accuracy: 0.7935 - val_loss: 0.5874 - val_accuracy: 0.7855\n",
      "Epoch 12/20\n",
      "4386/4386 [==============================] - 265s 60ms/step - loss: 0.5369 - accuracy: 0.7946 - val_loss: 0.5794 - val_accuracy: 0.7853\n",
      "Epoch 13/20\n",
      "4386/4386 [==============================] - 265s 60ms/step - loss: 0.5325 - accuracy: 0.7959 - val_loss: 0.5841 - val_accuracy: 0.7883\n",
      "Epoch 14/20\n",
      "4386/4386 [==============================] - 266s 61ms/step - loss: 0.5304 - accuracy: 0.7967 - val_loss: 0.5813 - val_accuracy: 0.7867\n",
      "Epoch 15/20\n",
      "4386/4386 [==============================] - 265s 60ms/step - loss: 0.5267 - accuracy: 0.7983 - val_loss: 0.5826 - val_accuracy: 0.7868\n",
      "Epoch 16/20\n",
      "4386/4386 [==============================] - 282s 64ms/step - loss: 0.5246 - accuracy: 0.7982 - val_loss: 0.5839 - val_accuracy: 0.7856\n",
      "Epoch 17/20\n",
      "4386/4386 [==============================] - 264s 60ms/step - loss: 0.5202 - accuracy: 0.7996 - val_loss: 0.5865 - val_accuracy: 0.7875\n",
      "Epoch 18/20\n",
      "4386/4386 [==============================] - 260s 59ms/step - loss: 0.5197 - accuracy: 0.8004 - val_loss: 0.5899 - val_accuracy: 0.7870\n",
      "Epoch 19/20\n",
      "4386/4386 [==============================] - 250s 57ms/step - loss: 0.5165 - accuracy: 0.8006 - val_loss: 0.5868 - val_accuracy: 0.7868\n",
      "Epoch 20/20\n",
      "4386/4386 [==============================] - 274s 62ms/step - loss: 0.5136 - accuracy: 0.8022 - val_loss: 0.5888 - val_accuracy: 0.7874\n"
     ]
    }
   ],
   "source": [
    "from tensorflow.keras.utils import to_categorical\n",
    "from tensorflow.keras.callbacks import EarlyStopping\n",
    "\n",
    "# early_stopping = EarlyStopping(monitor='val_loss', patience=3, restore_best_weights=True) # you can change the patience \n",
    "\n",
    "\n",
    "# Train the model\n",
    "history = model.fit(X1_train, y_train, validation_data=(X1_val,y_val), epochs=20, batch_size=32) #without earlystopping\n",
    "\n",
    "# history = model.fit(X_train, y_train, validation_data=(X1_val,y_val), epochs=20, batch_size=32, callbacks=[early_stopping]) # you can increase the number of epochs \n"
   ]
  },
  {
   "cell_type": "code",
   "execution_count": 38,
   "id": "d14f8699",
   "metadata": {},
   "outputs": [],
   "source": [
    "#To save the model\n",
    "model.save('sentiment_analysis_model.h5')"
   ]
  },
  {
   "cell_type": "code",
   "execution_count": 39,
   "id": "b28568bc-c43f-4a47-a59a-cd728f76f1cf",
   "metadata": {},
   "outputs": [
    {
     "name": "stdout",
     "output_type": "stream",
     "text": [
      "1371/1371 [==============================] - 12s 9ms/step - loss: 0.5918 - accuracy: 0.7872\n",
      "Accuracy: 78.72%\n"
     ]
    }
   ],
   "source": [
    "# Evaluate the model on the test set\n",
    "loss, accuracy = model.evaluate(X1_test, y_test)\n",
    "\n",
    "# Print the accuracy\n",
    "print(f\"Accuracy: {accuracy * 100:.2f}%\")\n"
   ]
  },
  {
   "cell_type": "code",
   "execution_count": 40,
   "id": "15c6ca67-dc0c-4318-89b7-1e6624be11f1",
   "metadata": {},
   "outputs": [
    {
     "data": {
      "image/png": "[encoded data removed]",
      "text/plain": [
       "<Figure size 1200x600 with 2 Axes>"
      ]
     },
     "metadata": {},
     "output_type": "display_data"
    }
   ],
   "source": [
    "import matplotlib.pyplot as plt\n",
    "\n",
    "# Get the training and test loss and accuracy from the history object\n",
    "train_loss = history.history['loss']\n",
    "val_loss = history.history['val_loss']\n",
    "train_acc = history.history['accuracy']\n",
    "val_acc = history.history['val_accuracy']\n",
    "\n",
    "# Plot the training and test loss\n",
    "plt.figure(figsize=(12, 6))\n",
    "plt.subplot(1, 2, 1)\n",
    "plt.plot(train_loss, label='Training Loss')\n",
    "plt.plot(val_loss, label='Validation Loss')\n",
    "plt.xlabel('Epochs')\n",
    "plt.ylabel('Loss')\n",
    "plt.title('Training and Validation Loss')\n",
    "plt.legend()\n",
    "\n",
    "# Plot the training and test accuracy\n",
    "plt.subplot(1, 2, 2)\n",
    "plt.plot(train_acc, label='Training Accuracy')\n",
    "plt.plot(val_acc, label='Validation Accuracy')\n",
    "plt.xlabel('Epochs')\n",
    "plt.ylabel('Accuracy')\n",
    "plt.title('Training and Validation Accuracy')\n",
    "plt.legend()\n",
    "\n",
    "plt.show()\n"
   ]
  },
  {
   "cell_type": "code",
   "execution_count": 41,
   "id": "6293380f-d710-40fc-834c-40f87c6e72f3",
   "metadata": {},
   "outputs": [],
   "source": [
    "#To load the model\n",
    "from tensorflow.keras.models import load_model\n",
    "\n",
    "loaded_model = load_model('sentiment_analysis_model.h5')\n",
    "\n"
   ]
  },
  {
   "cell_type": "markdown",
   "id": "5d88a287-e3ee-464e-a637-6b30b7fabe96",
   "metadata": {},
   "source": [
    "For hyperparameter tuning, we use GridSearchCV from sklearn and a custom KerasClassifier. First, create a function to build the model with hyperparameters as input arguments:\n",
    "\n",
    "N.B: This is computationally expensive"
   ]
  },
  {
   "cell_type": "code",
   "execution_count": 42,
   "id": "b16435a1-1863-4095-8c2d-448be62ad772",
   "metadata": {},
   "outputs": [],
   "source": [
    "from tensorflow.keras.wrappers.scikit_learn import KerasClassifier\n",
    "\n",
    "def create_model(embedding_dim=100, lstm_units=100, learning_rate=0.001):\n",
    "    model = Sequential()\n",
    "    model.add(Embedding(len(word_index) + 1, embedding_dim, input_length=maxlen, weights=[embedding_matrix], trainable=False))\n",
    "    model.add(LSTM(lstm_units))\n",
    "    model.add(Dense(3, activation='softmax'))\n",
    "    model.compile(loss='categorical_crossentropy', optimizer=Adam(learning_rate=learning_rate), metrics=['accuracy'])\n",
    "    return model"
   ]
  },
  {
   "cell_type": "markdown",
   "id": "2ddfa6c3-1f55-4df8-958f-bad5b0d0524f",
   "metadata": {},
   "source": [
    "Create a KerasClassifier using the create_model function, and set up the hyperparameter grid for tuning:"
   ]
  },
  {
   "cell_type": "code",
   "execution_count": 43,
   "id": "19b9cd5b-aacf-438a-9df0-7f70ffacd5ae",
   "metadata": {},
   "outputs": [
    {
     "name": "stderr",
     "output_type": "stream",
     "text": [
      "C:\\Users\\675399\\AppData\\Local\\Temp\\ipykernel_15480\\2966158193.py:1: DeprecationWarning: KerasClassifier is deprecated, use Sci-Keras (https://github.com/adriangb/scikeras) instead. See https://www.adriangb.com/scikeras/stable/migration.html for help migrating.\n",
      "  model = KerasClassifier(build_fn=create_model, epochs=20, batch_size=32, verbose=0)\n"
     ]
    }
   ],
   "source": [
    "model = KerasClassifier(build_fn=create_model, epochs=20, batch_size=32, verbose=0)\n",
    "\n",
    "param_grid = {\n",
    "    'learning_rate': [0.001, 0.01]\n",
    "}\n",
    "#   parameters that can be possibly tuned:  'lstm_units': [100, 150],   \n",
    "#                       'learning_rate': [0.001, 0.01]  'embedding_dim': [50, 100]"
   ]
  },
  {
   "cell_type": "markdown",
   "id": "85029b35-466c-4591-96cf-3bf58d5ff8a4",
   "metadata": {
    "execution": {
     "iopub.execute_input": "2023-04-21T09:48:18.771790Z",
     "iopub.status.busy": "2023-04-21T09:48:18.765735Z",
     "iopub.status.idle": "2023-04-21T09:48:18.834288Z",
     "shell.execute_reply": "2023-04-21T09:48:18.832287Z",
     "shell.execute_reply.started": "2023-04-21T09:48:18.771790Z"
    }
   },
   "source": [
    "Now, create a GridSearchCV object with the desired settings and fit it to the data:"
   ]
  },
  {
   "cell_type": "code",
   "execution_count": null,
   "id": "3d7b0f5a-c4eb-496d-91c9-2efc4fb305b1",
   "metadata": {},
   "outputs": [],
   "source": [
    "from sklearn.model_selection import GridSearchCV\n",
    "\n",
    "grid = GridSearchCV(estimator=model, param_grid=param_grid, n_jobs=1, cv=3)\n",
    "# grid_result = grid.fit(X1_train, y_train, validation_data=(X1_test, y_test), callbacks=[early_stopping])\n",
    "grid_result = grid.fit(X1_train, y_train, validation_data=(X1_val, y_val))"
   ]
  },
  {
   "cell_type": "markdown",
   "id": "d3d02f7d-7fb7-44e3-90c9-a668ff938506",
   "metadata": {},
   "source": [
    "After fitting the grid search, you can access the best hyperparameters and the best score:"
   ]
  },
  {
   "cell_type": "code",
   "execution_count": null,
   "id": "55743e5e-5b19-4dc3-932a-9d55b5ad6b60",
   "metadata": {},
   "outputs": [],
   "source": [
    "print(\"Best score: %f using %s\" % (grid_result.best_score_, grid_result.best_params_))\n"
   ]
  },
  {
   "cell_type": "markdown",
   "id": "7d9f3081-ed67-4048-aad6-2d7203ae491b",
   "metadata": {},
   "source": [
    "Finally, save the best model using grid_result.best_estimator_.model:"
   ]
  },
  {
   "cell_type": "code",
   "execution_count": null,
   "id": "28fc524b-8baf-4a0f-aa6b-2a70bef0af2c",
   "metadata": {},
   "outputs": [],
   "source": [
    "best_model = grid_result.best_estimator_.model\n",
    "best_model.save('best_sentiment_analysis_model.h5')\n"
   ]
  }
 ],
 "metadata": {
  "kernelspec": {
   "display_name": "Python 3 (ipykernel)",
   "language": "python",
   "name": "python3"
  },
  "language_info": {
   "codemirror_mode": {
    "name": "ipython",
    "version": 3
   },
   "file_extension": ".py",
   "mimetype": "text/x-python",
   "name": "python",
   "nbconvert_exporter": "python",
   "pygments_lexer": "ipython3",
   "version": "3.9.12"
  }
 },
 "nbformat": 4,
 "nbformat_minor": 5
}
